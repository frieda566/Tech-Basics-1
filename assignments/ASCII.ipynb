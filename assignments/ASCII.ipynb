{
 "cells": [
  {
   "metadata": {},
   "cell_type": "markdown",
   "source": [
    "<span style=\"color: red; font-weight: bold;\">Excercise: ASCII art work</span>\n",
    "\n"
   ],
   "id": "c69b65fee5160a62"
  },
  {
   "metadata": {
    "ExecuteTime": {
     "end_time": "2025-04-13T12:15:42.739647Z",
     "start_time": "2025-04-13T12:15:42.725737Z"
    }
   },
   "cell_type": "code",
   "source": [
    "print (\" //   ##   /   /\")\n",
    "print (\":###; ;### ;#  ##:\")\n",
    "print (\" :### #### ## ##:\")\n",
    "print (\":##### #### # ###:\")\n",
    "print (\":###### #### ####:\")\n",
    "print (\" :##### ### ####:\")\n",
    "print (\"  :#### ## ####:\")\n",
    "print (\"   :##### ####:\")\n",
    "print (\"    :#### ###:\")\n",
    "print (\"     &#:#&:#&\")\n",
    "print (\"      &&:&:&\")\n",
    "print (\"       &&&&\")\n",
    "print (\"       ;&&;     /\")\n",
    "print (\"        ||    ////\")\n",
    "print (\"        ||   /////\")\n",
    "print (\"        ||  //////\")\n",
    "print (\"        || //////\")\n",
    "print (\"        || /////\")\n",
    "print (\"        ||////\")\n",
    "print (\"        ||//\")\n",
    "print (\"        ||/\")\n",
    "print (\"        ||\")\n",
    "print (\"        ||\")\n",
    "print (\"        ||\")\n",
    "print (\"        ||\")\n",
    "print (\"        ||\")\n",
    "print (\"        ||\")\n",
    "print (\"        ||\")\n",
    "print (\"        ||\")\n",
    "print (\"        ||\")\n",
    "print (\"        ||\")\n"
   ],
   "id": "b8c0147e5c9d5fe",
   "outputs": [
    {
     "name": "stdout",
     "output_type": "stream",
     "text": [
      " //   ##   /   /\n",
      ":###; ;### ;#  ##:\n",
      " :### #### ## ##:\n",
      ":##### #### # ###:\n",
      ":###### #### ####:\n",
      " :##### ### ####:\n",
      "  :#### ## ####:\n",
      "   :##### ####:\n",
      "    :#### ###:\n",
      "     &#:#&:#&\n",
      "      &&:&:&\n",
      "       &&&&\n",
      "       ;&&;     /\n",
      "        ||    ////\n",
      "        ||   /////\n",
      "        ||  //////\n",
      "        || //////\n",
      "        || /////\n",
      "        ||////\n",
      "        ||//\n",
      "        ||/\n",
      "        ||\n",
      "        ||\n",
      "        ||\n",
      "        ||\n",
      "        ||\n",
      "        ||\n",
      "        ||\n",
      "        ||\n",
      "        ||\n",
      "        ||\n"
     ]
    }
   ],
   "execution_count": 8
  }
 ],
 "metadata": {
  "kernelspec": {
   "display_name": "Python 3",
   "language": "python",
   "name": "python3"
  },
  "language_info": {
   "codemirror_mode": {
    "name": "ipython",
    "version": 2
   },
   "file_extension": ".py",
   "mimetype": "text/x-python",
   "name": "python",
   "nbconvert_exporter": "python",
   "pygments_lexer": "ipython2",
   "version": "2.7.6"
  }
 },
 "nbformat": 4,
 "nbformat_minor": 5
}
